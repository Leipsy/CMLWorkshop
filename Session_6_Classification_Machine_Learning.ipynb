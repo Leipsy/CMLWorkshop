{
 "cells": [
  {
   "cell_type": "code",
   "execution_count": 1,
   "metadata": {},
   "outputs": [],
   "source": [
    "# First, our import statements.\n",
    "import pandas as pd\n",
    "import numpy as np\n",
    "from ptsa.data.filters import MorletWaveletFilter\n",
    "\n",
    "# The CMLLoad class is your gateway to the experimental data, including channels, events, and eeg data.\n",
    "from CMLLoad import CMLLoad\n",
    "\n",
    "# We need to tell CMLLoad what directory contains the experimental data files.\n",
    "# Point this to where they are on your system.\n",
    "load = CMLLoad('./CMLExamples')\n",
    "\n",
    "df = load.Index()"
   ]
  },
  {
   "cell_type": "code",
   "execution_count": 2,
   "metadata": {},
   "outputs": [
    {
     "data": {
      "text/plain": [
       "array(['LTP093', 'LTP123', 'LTP210', 'LTP246'], dtype=object)"
      ]
     },
     "execution_count": 2,
     "metadata": {},
     "output_type": "execute_result"
    }
   ],
   "source": [
    "ltpFR2_df = df.query('experiment == \"ltpFR2\"')\n",
    "ltpFR2_df['subject'].unique()"
   ]
  },
  {
   "cell_type": "code",
   "execution_count": 3,
   "metadata": {},
   "outputs": [],
   "source": [
    "evs = load.Load(ltpFR2_df.iloc[0], 'events')\n",
    "word_evs = evs[evs['type']=='WORD']\n",
    "chansel = ['E7', 'E106', 'E31', 'E80', 'E55']\n",
    "#chansel = np.ones(133, np.bool)\n",
    "#chansel[129:] = False\n",
    "#chansel = ['E7', 'E106', 'Cz', 'E31', 'E80', 'E55']\n"
   ]
  },
  {
   "cell_type": "code",
   "execution_count": 4,
   "metadata": {},
   "outputs": [],
   "source": [
    "buf = 1000\n",
    "ev_start = 200\n",
    "ev_len = 700\n",
    "eeg = load.LoadPTSA(ltpFR2_df.iloc[0], ev_start=ev_start-buf, ev_len=ev_len+2*buf)\n",
    "#eeg = eeg[word_evs.index].sel(channel=chansel)\n",
    "eeg = eeg[word_evs.index].sel(channel=np.array([c in chansel for c in eeg.channel]))"
   ]
  },
  {
   "cell_type": "code",
   "execution_count": 5,
   "metadata": {},
   "outputs": [],
   "source": [
    "#chansel = np.zeros(6, np.bool)\n",
    "#chansel[5] = True\n",
    "#np.sum(eeg.sel(channel=chansel)==0)eeg[~np.any(eeg==0, axis=(1,2))]\n",
    "\n",
    "#evssel = np.zeros(576, np.bool)\n",
    "#evssel[:3] = True\n",
    "#eeg.sel(event=evssel)\n",
    "#eeg"
   ]
  },
  {
   "cell_type": "code",
   "execution_count": 6,
   "metadata": {},
   "outputs": [
    {
     "data": {
      "text/plain": [
       "array([  2.        ,   2.77899099,   3.86139546,   5.36539159,\n",
       "         7.45518744,  10.35894936,  14.39371346,  20.        ,\n",
       "        27.78990989,  38.61395458,  53.65391591,  74.55187441,\n",
       "       103.58949358, 143.9371346 , 200.        ])"
      ]
     },
     "execution_count": 6,
     "metadata": {},
     "output_type": "execute_result"
    }
   ],
   "source": [
    "freqs = np.geomspace(2, 200, 15)\n",
    "freqs"
   ]
  },
  {
   "cell_type": "code",
   "execution_count": 7,
   "metadata": {},
   "outputs": [
    {
     "name": "stdout",
     "output_type": "stream",
     "text": [
      "CPP total time wavelet loop:  1.494189739227295\n"
     ]
    }
   ],
   "source": [
    "eegpow = MorletWaveletFilter(eeg, freqs, output='power').filter()"
   ]
  },
  {
   "cell_type": "code",
   "execution_count": 8,
   "metadata": {},
   "outputs": [],
   "source": [
    "eegpow = eegpow.remove_buffer(1)"
   ]
  },
  {
   "cell_type": "code",
   "execution_count": 9,
   "metadata": {},
   "outputs": [
    {
     "data": {
      "text/plain": [
       "<xarray.TimeSeries (frequency: 15, event: 576, channel: 5, time: 350)>\n",
       "array([[[[1.268499e-05, ..., 1.165516e-05],\n",
       "         ...,\n",
       "         [1.727534e-06, ..., 1.231158e-06]],\n",
       "\n",
       "        ...,\n",
       "\n",
       "        [[3.144785e-05, ..., 3.246812e-05],\n",
       "         ...,\n",
       "         [3.854564e-05, ..., 3.653803e-05]]],\n",
       "\n",
       "\n",
       "       ...,\n",
       "\n",
       "\n",
       "       [[[1.080047e-10, ..., 8.894250e-11],\n",
       "         ...,\n",
       "         [2.103011e-10, ..., 2.242507e-10]],\n",
       "\n",
       "        ...,\n",
       "\n",
       "        [[3.668786e-10, ..., 5.166272e-10],\n",
       "         ...,\n",
       "         [2.373873e-10, ..., 1.649746e-10]]]])\n",
       "Coordinates:\n",
       "  * channel     (channel) <U7 'E7' 'E31' 'E55' 'E80' 'E106'\n",
       "  * time        (time) float64 200.0 202.0 204.0 206.0 ... 894.0 896.0 898.0\n",
       "  * event       (event) object {'Index': 6, 'eegoffset': 285929, 'answer': -999, 'begin_distractor': 0, 'begin_math_correct': -999, 'eegfile': '/protocols/ltp/subjects/LTP093/experiments/ltpFR2/sessions/0/ephys/current_processed/LTP093 20140902 0959.2.raw', 'eogArtifact': 1, 'experiment': 'ltpFR2', 'final_distractor': 24000, 'final_math_correct': 10, 'intruded': 0, 'intrusion': -999, 'iscorrect': -999, 'item_name': 'BALLOON', 'item_num': 75, 'list': -999, 'montage': 0, 'msoffset': 1, 'mstime': 1409671137192, 'phase': nan, 'protocol': 'ltp', 'recalled': 1, 'rectime': -999, 'serialpos': 1, 'session': 0, 'subject': 'LTP093', 'test': '[0, 0, 0]', 'trial': 1, 'type': 'WORD'} ... {'Index': 1315, 'eegoffset': 2769567, 'answer': -999, 'begin_distractor': 24000, 'begin_math_correct': 12, 'eegfile': '/protocols/ltp/subjects/LTP093/experiments/ltpFR2/sessions/0/ephys/current_processed/LTP093 20140902 0959.2.raw', 'eogArtifact': 0, 'experiment': 'ltpFR2', 'final_distractor': 24000, 'final_math_correct': 10, 'intruded': 0, 'intrusion': -999, 'iscorrect': -999, 'item_name': 'GLASS', 'item_num': 639, 'list': -999, 'montage': 0, 'msoffset': 1, 'mstime': 1409676104392, 'phase': nan, 'protocol': 'ltp', 'recalled': 1, 'rectime': -999, 'serialpos': 24, 'session': 0, 'subject': 'LTP093', 'test': '[0, 0, 0]', 'trial': 24, 'type': 'WORD'}\n",
       "    samplerate  float64 500.0\n",
       "  * frequency   (frequency) float64 2.0 2.779 3.861 5.365 ... 103.6 143.9 200.0"
      ]
     },
     "execution_count": 9,
     "metadata": {},
     "output_type": "execute_result"
    }
   ],
   "source": [
    "eegpow"
   ]
  },
  {
   "cell_type": "code",
   "execution_count": 10,
   "metadata": {},
   "outputs": [],
   "source": [
    "eegpow_mean = eegpow.mean('time')\n",
    "eegpow_mean = np.log(eegpow_mean)"
   ]
  },
  {
   "cell_type": "code",
   "execution_count": 11,
   "metadata": {},
   "outputs": [],
   "source": [
    "# z-transform\n",
    "eegpow_mean -= eegpow_mean.mean('event')\n",
    "eegpow_mean /= eegpow_mean.std('event')"
   ]
  },
  {
   "cell_type": "code",
   "execution_count": 12,
   "metadata": {},
   "outputs": [
    {
     "data": {
      "text/plain": [
       "<xarray.DataArray (frequency: 15, event: 576, channel: 5)>\n",
       "array([[[ 0.324271, -0.160039, ..., -2.031389, -1.606499],\n",
       "        [ 0.265426, -0.088133, ..., -1.808858, -1.122522],\n",
       "        ...,\n",
       "        [ 0.905812,  0.074823, ...,  0.317226,  0.511245],\n",
       "        [ 0.823949,  0.137389, ...,  0.32552 ,  0.571704]],\n",
       "\n",
       "       [[-0.81419 ,  0.39648 , ...,  0.187789,  1.696886],\n",
       "        [-0.812923, -0.367657, ..., -0.054997,  0.97297 ],\n",
       "        ...,\n",
       "        [ 0.748127,  0.390233, ..., -1.106483,  0.410056],\n",
       "        [ 1.615293,  0.184969, ...,  1.199722,  1.135325]],\n",
       "\n",
       "       ...,\n",
       "\n",
       "       [[-0.823108, -0.532495, ..., -0.666873, -0.577038],\n",
       "        [-0.350946, -0.342336, ..., -0.424984, -0.764158],\n",
       "        ...,\n",
       "        [-0.503042,  1.967526, ..., -0.519848, -0.259394],\n",
       "        [-0.296818,  1.841054, ..., -0.465974, -0.022426]],\n",
       "\n",
       "       [[-0.544776, -0.901081, ..., -0.981262, -1.139244],\n",
       "        [-0.613712, -0.871036, ..., -0.512629, -0.751468],\n",
       "        ...,\n",
       "        [-0.392787,  0.159954, ..., -0.556463, -1.079266],\n",
       "        [-1.190965,  0.358945, ..., -0.796358, -0.764786]]])\n",
       "Coordinates:\n",
       "  * channel     (channel) <U7 'E7' 'E31' 'E55' 'E80' 'E106'\n",
       "  * event       (event) object {'Index': 6, 'eegoffset': 285929, 'answer': -999, 'begin_distractor': 0, 'begin_math_correct': -999, 'eegfile': '/protocols/ltp/subjects/LTP093/experiments/ltpFR2/sessions/0/ephys/current_processed/LTP093 20140902 0959.2.raw', 'eogArtifact': 1, 'experiment': 'ltpFR2', 'final_distractor': 24000, 'final_math_correct': 10, 'intruded': 0, 'intrusion': -999, 'iscorrect': -999, 'item_name': 'BALLOON', 'item_num': 75, 'list': -999, 'montage': 0, 'msoffset': 1, 'mstime': 1409671137192, 'phase': nan, 'protocol': 'ltp', 'recalled': 1, 'rectime': -999, 'serialpos': 1, 'session': 0, 'subject': 'LTP093', 'test': '[0, 0, 0]', 'trial': 1, 'type': 'WORD'} ... {'Index': 1315, 'eegoffset': 2769567, 'answer': -999, 'begin_distractor': 24000, 'begin_math_correct': 12, 'eegfile': '/protocols/ltp/subjects/LTP093/experiments/ltpFR2/sessions/0/ephys/current_processed/LTP093 20140902 0959.2.raw', 'eogArtifact': 0, 'experiment': 'ltpFR2', 'final_distractor': 24000, 'final_math_correct': 10, 'intruded': 0, 'intrusion': -999, 'iscorrect': -999, 'item_name': 'GLASS', 'item_num': 639, 'list': -999, 'montage': 0, 'msoffset': 1, 'mstime': 1409676104392, 'phase': nan, 'protocol': 'ltp', 'recalled': 1, 'rectime': -999, 'serialpos': 24, 'session': 0, 'subject': 'LTP093', 'test': '[0, 0, 0]', 'trial': 24, 'type': 'WORD'}\n",
       "    samplerate  float64 500.0\n",
       "  * frequency   (frequency) float64 2.0 2.779 3.861 5.365 ... 103.6 143.9 200.0"
      ]
     },
     "execution_count": 12,
     "metadata": {},
     "output_type": "execute_result"
    }
   ],
   "source": [
    "#eegpow_mean[~np.any(np.isnan(eegpow_mean), axis=(1,2))]\n",
    "#eegpow_mean = eegpow.mean('time')\n",
    "eegpow_mean"
   ]
  },
  {
   "cell_type": "code",
   "execution_count": 13,
   "metadata": {},
   "outputs": [
    {
     "data": {
      "text/plain": [
       "(array([2.000e+00, 0.000e+00, 0.000e+00, 0.000e+00, 0.000e+00, 0.000e+00,\n",
       "        0.000e+00, 1.000e+00, 1.000e+00, 6.000e+00, 4.000e+00, 1.000e+00,\n",
       "        1.100e+01, 1.300e+01, 1.400e+01, 2.000e+01, 2.200e+01, 3.800e+01,\n",
       "        4.400e+01, 8.000e+01, 9.300e+01, 1.130e+02, 1.780e+02, 1.860e+02,\n",
       "        2.830e+02, 3.560e+02, 4.960e+02, 5.520e+02, 7.560e+02, 9.200e+02,\n",
       "        1.125e+03, 1.282e+03, 1.545e+03, 1.784e+03, 1.936e+03, 2.110e+03,\n",
       "        2.143e+03, 2.253e+03, 2.165e+03, 2.191e+03, 2.135e+03, 2.113e+03,\n",
       "        1.983e+03, 1.845e+03, 1.723e+03, 1.652e+03, 1.541e+03, 1.345e+03,\n",
       "        1.249e+03, 9.160e+02, 7.280e+02, 6.260e+02, 4.920e+02, 4.160e+02,\n",
       "        3.350e+02, 2.410e+02, 2.050e+02, 2.060e+02, 1.330e+02, 1.240e+02,\n",
       "        1.060e+02, 7.800e+01, 8.000e+01, 4.700e+01, 3.700e+01, 2.100e+01,\n",
       "        2.000e+01, 9.000e+00, 4.000e+00, 1.000e+00, 9.000e+00, 8.000e+00,\n",
       "        2.000e+00, 1.000e+00, 3.000e+00, 5.000e+00, 4.000e+00, 4.000e+00,\n",
       "        4.000e+00, 1.000e+00, 1.000e+00, 3.000e+00, 1.000e+00, 3.000e+00,\n",
       "        0.000e+00, 0.000e+00, 4.000e+00, 0.000e+00, 0.000e+00, 1.000e+00,\n",
       "        2.000e+00, 4.000e+00, 1.000e+00, 0.000e+00, 1.000e+00, 0.000e+00,\n",
       "        0.000e+00, 0.000e+00, 2.000e+00, 1.000e+00]),\n",
       " array([-4.992266  , -4.86679191, -4.74131781, -4.61584371, -4.49036962,\n",
       "        -4.36489552, -4.23942142, -4.11394733, -3.98847323, -3.86299913,\n",
       "        -3.73752504, -3.61205094, -3.48657684, -3.36110275, -3.23562865,\n",
       "        -3.11015455, -2.98468046, -2.85920636, -2.73373227, -2.60825817,\n",
       "        -2.48278407, -2.35730998, -2.23183588, -2.10636178, -1.98088769,\n",
       "        -1.85541359, -1.72993949, -1.6044654 , -1.4789913 , -1.3535172 ,\n",
       "        -1.22804311, -1.10256901, -0.97709491, -0.85162082, -0.72614672,\n",
       "        -0.60067263, -0.47519853, -0.34972443, -0.22425034, -0.09877624,\n",
       "         0.02669786,  0.15217195,  0.27764605,  0.40312015,  0.52859424,\n",
       "         0.65406834,  0.77954244,  0.90501653,  1.03049063,  1.15596473,\n",
       "         1.28143882,  1.40691292,  1.53238701,  1.65786111,  1.78333521,\n",
       "         1.9088093 ,  2.0342834 ,  2.1597575 ,  2.28523159,  2.41070569,\n",
       "         2.53617979,  2.66165388,  2.78712798,  2.91260208,  3.03807617,\n",
       "         3.16355027,  3.28902437,  3.41449846,  3.53997256,  3.66544665,\n",
       "         3.79092075,  3.91639485,  4.04186894,  4.16734304,  4.29281714,\n",
       "         4.41829123,  4.54376533,  4.66923943,  4.79471352,  4.92018762,\n",
       "         5.04566172,  5.17113581,  5.29660991,  5.42208401,  5.5475581 ,\n",
       "         5.6730322 ,  5.79850629,  5.92398039,  6.04945449,  6.17492858,\n",
       "         6.30040268,  6.42587678,  6.55135087,  6.67682497,  6.80229907,\n",
       "         6.92777316,  7.05324726,  7.17872136,  7.30419545,  7.42966955,\n",
       "         7.55514365]),\n",
       " <a list of 100 Patch objects>)"
      ]
     },
     "execution_count": 13,
     "metadata": {},
     "output_type": "execute_result"
    },
    {
     "data": {
      "image/png": "[encoded data removed]",
      "text/plain": [
       "<Figure size 432x288 with 1 Axes>"
      ]
     },
     "metadata": {
      "needs_background": "light"
     },
     "output_type": "display_data"
    }
   ],
   "source": [
    "# Plot our results\n",
    "%matplotlib inline\n",
    "import matplotlib.pyplot as plt\n",
    "plt.hist(np.ravel(eegpow_mean), 100)"
   ]
  },
  {
   "cell_type": "code",
   "execution_count": 14,
   "metadata": {},
   "outputs": [],
   "source": [
    "features = eegpow_mean.stack(features=('frequency', 'channel'))"
   ]
  },
  {
   "cell_type": "code",
   "execution_count": 15,
   "metadata": {},
   "outputs": [
    {
     "data": {
      "text/plain": [
       "<xarray.DataArray (event: 576, features: 75)>\n",
       "array([[ 0.324271, -0.160039, -1.974703, ..., -0.623596, -0.981262, -1.139244],\n",
       "       [ 0.265426, -0.088133, -1.993337, ..., -0.023552, -0.512629, -0.751468],\n",
       "       [ 0.207314, -0.110375, -2.016756, ..., -0.795499, -1.146484, -1.153012],\n",
       "       ...,\n",
       "       [ 0.870051,  0.070836,  1.481123, ..., -1.598195, -0.39232 , -0.599623],\n",
       "       [ 0.905812,  0.074823,  1.468127, ..., -1.313671, -0.556463, -1.079266],\n",
       "       [ 0.823949,  0.137389,  1.463588, ..., -0.785854, -0.796358, -0.764786]])\n",
       "Coordinates:\n",
       "  * event       (event) object {'Index': 6, 'eegoffset': 285929, 'answer': -999, 'begin_distractor': 0, 'begin_math_correct': -999, 'eegfile': '/protocols/ltp/subjects/LTP093/experiments/ltpFR2/sessions/0/ephys/current_processed/LTP093 20140902 0959.2.raw', 'eogArtifact': 1, 'experiment': 'ltpFR2', 'final_distractor': 24000, 'final_math_correct': 10, 'intruded': 0, 'intrusion': -999, 'iscorrect': -999, 'item_name': 'BALLOON', 'item_num': 75, 'list': -999, 'montage': 0, 'msoffset': 1, 'mstime': 1409671137192, 'phase': nan, 'protocol': 'ltp', 'recalled': 1, 'rectime': -999, 'serialpos': 1, 'session': 0, 'subject': 'LTP093', 'test': '[0, 0, 0]', 'trial': 1, 'type': 'WORD'} ... {'Index': 1315, 'eegoffset': 2769567, 'answer': -999, 'begin_distractor': 24000, 'begin_math_correct': 12, 'eegfile': '/protocols/ltp/subjects/LTP093/experiments/ltpFR2/sessions/0/ephys/current_processed/LTP093 20140902 0959.2.raw', 'eogArtifact': 0, 'experiment': 'ltpFR2', 'final_distractor': 24000, 'final_math_correct': 10, 'intruded': 0, 'intrusion': -999, 'iscorrect': -999, 'item_name': 'GLASS', 'item_num': 639, 'list': -999, 'montage': 0, 'msoffset': 1, 'mstime': 1409676104392, 'phase': nan, 'protocol': 'ltp', 'recalled': 1, 'rectime': -999, 'serialpos': 24, 'session': 0, 'subject': 'LTP093', 'test': '[0, 0, 0]', 'trial': 24, 'type': 'WORD'}\n",
       "    samplerate  float64 500.0\n",
       "  * features    (features) MultiIndex\n",
       "  - frequency   (features) float64 2.0 2.0 2.0 2.0 ... 10.36 10.36 10.36 10.36\n",
       "  - channel     (features) object 'E7' 'E31' 'E55' 'E80' ... 'E55' 'E80' 'E106'"
      ]
     },
     "execution_count": 15,
     "metadata": {},
     "output_type": "execute_result"
    }
   ],
   "source": [
    "features"
   ]
  },
  {
   "cell_type": "code",
   "execution_count": 16,
   "metadata": {},
   "outputs": [],
   "source": [
    "from sklearn.linear_model import LogisticRegression\n",
    "from sklearn.metrics import roc_auc_score"
   ]
  },
  {
   "cell_type": "code",
   "execution_count": 17,
   "metadata": {},
   "outputs": [],
   "source": [
    "model = LogisticRegression(solver='liblinear')"
   ]
  },
  {
   "cell_type": "code",
   "execution_count": 18,
   "metadata": {},
   "outputs": [
    {
     "data": {
      "text/plain": [
       "0.3993055555555556"
      ]
     },
     "execution_count": 18,
     "metadata": {},
     "output_type": "execute_result"
    }
   ],
   "source": [
    "word_evs['recalled'].mean()"
   ]
  },
  {
   "cell_type": "code",
   "execution_count": 19,
   "metadata": {},
   "outputs": [
    {
     "data": {
      "text/plain": [
       "LogisticRegression(C=1.0, class_weight=None, dual=False, fit_intercept=True,\n",
       "                   intercept_scaling=1, l1_ratio=None, max_iter=100,\n",
       "                   multi_class='warn', n_jobs=None, penalty='l2',\n",
       "                   random_state=None, solver='liblinear', tol=0.0001, verbose=0,\n",
       "                   warm_start=False)"
      ]
     },
     "execution_count": 19,
     "metadata": {},
     "output_type": "execute_result"
    }
   ],
   "source": [
    "model.fit(features, word_evs['recalled'])"
   ]
  },
  {
   "cell_type": "code",
   "execution_count": 20,
   "metadata": {},
   "outputs": [
    {
     "data": {
      "text/plain": [
       "0.772756974114099"
      ]
     },
     "execution_count": 20,
     "metadata": {},
     "output_type": "execute_result"
    }
   ],
   "source": [
    "roc_auc_score(word_evs['recalled'], model.predict_proba(features)[:, 1])"
   ]
  },
  {
   "cell_type": "code",
   "execution_count": 21,
   "metadata": {},
   "outputs": [
    {
     "data": {
      "text/plain": [
       "array([0.84328055, 0.75910294, 0.85148573, 0.55862595, 0.88423901,\n",
       "       0.79989263, 0.96848552, 0.65301894, 0.86773772, 0.98321752,\n",
       "       0.9292309 , 0.48002173, 0.80638226, 0.86875385, 0.63118444,\n",
       "       0.83425804, 0.41166432, 0.71786258, 0.80105905, 0.97156174,\n",
       "       0.6108451 , 0.76406187, 0.93404501, 0.68340757, 0.80743548,\n",
       "       0.51679752, 0.62105173, 0.65825055, 0.95459371, 0.35587517,\n",
       "       0.55081756, 0.38878253, 0.66496358, 0.64047625, 0.6051525 ,\n",
       "       0.47004452, 0.58677367, 0.5989828 , 0.79657458, 0.72391767,\n",
       "       0.63000993, 0.62523813, 0.79708371, 0.37359649, 0.78669392,\n",
       "       0.52974733, 0.3121634 , 0.85143749, 0.77700514, 0.20150827,\n",
       "       0.86741983, 0.81028866, 0.49234859, 0.65989568, 0.58661454,\n",
       "       0.63648676, 0.15991141, 0.40291943, 0.3513896 , 0.19772822,\n",
       "       0.14938593, 0.33053152, 0.20088257, 0.44142654, 0.64800399,\n",
       "       0.31023476, 0.26656059, 0.39034304, 0.22808604, 0.75039704,\n",
       "       0.28666011, 0.44031098, 0.41129286, 0.29750855, 0.182985  ,\n",
       "       0.10072246, 0.14552169, 0.41768027, 0.2774694 , 0.33585655,\n",
       "       0.16675391, 0.41996282, 0.65077384, 0.40234997, 0.27185928,\n",
       "       0.17652839, 0.44812132, 0.25254459, 0.24544817, 0.24530913,\n",
       "       0.29870875, 0.19388028, 0.41145357, 0.26885955, 0.37775074,\n",
       "       0.33693472, 0.7496441 , 0.47759284, 0.49739684, 0.57607638,\n",
       "       0.29919942, 0.16901559, 0.15324729, 0.13087517, 0.31838503,\n",
       "       0.2168621 , 0.21628819, 0.17653027, 0.13707334, 0.34717532,\n",
       "       0.15785859, 0.54590134, 0.33089664, 0.34198291, 0.18750707,\n",
       "       0.08897228, 0.093384  , 0.29584077, 0.28274542, 0.18623808,\n",
       "       0.6391432 , 0.25226256, 0.19104231, 0.67554957, 0.21311794,\n",
       "       0.27774229, 0.33371274, 0.16224048, 0.45527773, 0.07071078,\n",
       "       0.2172352 , 0.81721968, 0.08807563, 0.17828699, 0.61759654,\n",
       "       0.52473738, 0.84669541, 0.73933299, 0.50272913, 0.18373285,\n",
       "       0.28558503, 0.39785292, 0.22900095, 0.27149481, 0.47414667,\n",
       "       0.4005847 , 0.33803429, 0.29548916, 0.53616883, 0.28590657,\n",
       "       0.19983219, 0.19034516, 0.33568895, 0.76767367, 0.52732874,\n",
       "       0.10031575, 0.31141149, 0.2263019 , 0.46847896, 0.32679525,\n",
       "       0.18507085, 0.3134036 , 0.03934866, 0.47507245, 0.3910134 ,\n",
       "       0.6383849 , 0.41166461, 0.38110438, 0.61633421, 0.42218   ,\n",
       "       0.45728303, 0.33011846, 0.05936772, 0.33579204, 0.27727572,\n",
       "       0.18186411, 0.61776646, 0.82449387, 0.69414176, 0.54941796,\n",
       "       0.17597379, 0.21525783, 0.74487767, 0.06545839, 0.2533856 ,\n",
       "       0.15009389, 0.63282957, 0.5142099 , 0.34021822, 0.52244258,\n",
       "       0.35949421, 0.0653979 , 0.78286803, 0.72426631, 0.7660443 ,\n",
       "       0.8495674 , 0.28968198, 0.12941079, 0.65889607, 0.70745995,\n",
       "       0.89994748, 0.89915278, 0.64038279, 0.75553524, 0.34207301,\n",
       "       0.78750825, 0.48986318, 0.67754661, 0.67107519, 0.6397678 ,\n",
       "       0.46792188, 0.69940036, 0.65621037, 0.62281566, 0.80214976,\n",
       "       0.37185919, 0.68518612, 0.31168518, 0.86737947, 0.19441072,\n",
       "       0.23100224, 0.53030878, 0.37741093, 0.67424269, 0.23045708,\n",
       "       0.40855898, 0.3968854 , 0.17890161, 0.67980208, 0.72286875,\n",
       "       0.32837304, 0.09761974, 0.24615599, 0.44001752, 0.80251613,\n",
       "       0.53222493, 0.38301488, 0.70817494, 0.39278088, 0.16174895,\n",
       "       0.44432425, 0.40280411, 0.67405135, 0.34522915, 0.1791827 ,\n",
       "       0.30859165, 0.26281788, 0.37126401, 0.42465523, 0.0473915 ,\n",
       "       0.23012732, 0.54708031, 0.23235769, 0.23241334, 0.0798279 ,\n",
       "       0.20265738, 0.4167057 , 0.46762977, 0.21717101, 0.53834655,\n",
       "       0.28739433, 0.14901202, 0.31905087, 0.17141679, 0.37528379,\n",
       "       0.29962327, 0.19525272, 0.3244943 , 0.33742078, 0.25814655,\n",
       "       0.59123302, 0.21261158, 0.33927567, 0.12849567, 0.24803905,\n",
       "       0.04462482, 0.56052097, 0.46501347, 0.49148641, 0.36364363,\n",
       "       0.69191517, 0.45448652, 0.17017589, 0.09738315, 0.95909478,\n",
       "       0.44439236, 0.144838  , 0.19630622, 0.65598406, 0.06338178,\n",
       "       0.37694358, 0.66113922, 0.47527806, 0.32791622, 0.37798626,\n",
       "       0.22416834, 0.17148362, 0.04990966, 0.13190404, 0.73745762,\n",
       "       0.20965766, 0.3809395 , 0.36613494, 0.3039708 , 0.28720506,\n",
       "       0.39799134, 0.39980785, 0.21358149, 0.55837807, 0.22328002,\n",
       "       0.30164043, 0.71411625, 0.3236889 , 0.05279394, 0.51260733,\n",
       "       0.20106856, 0.21835001, 0.36269695, 0.1358461 , 0.17847285,\n",
       "       0.65696758, 0.54410421, 0.50603013, 0.48194828, 0.67684198,\n",
       "       0.63978033, 0.07866893, 0.21046843, 0.08896671, 0.11751574,\n",
       "       0.20466018, 0.42668981, 0.10038031, 0.1582743 , 0.26423605,\n",
       "       0.16929614, 0.10646499, 0.3895536 , 0.55354518, 0.28713028,\n",
       "       0.17474684, 0.3803282 , 0.1665866 , 0.40150144, 0.14476775,\n",
       "       0.25517703, 0.35278991, 0.20048264, 0.33113168, 0.32894567,\n",
       "       0.08089226, 0.12766452, 0.11132957, 0.07839388, 0.26277764,\n",
       "       0.13652137, 0.24451179, 0.67330212, 0.23269214, 0.59324499,\n",
       "       0.49972211, 0.4995288 , 0.71413331, 0.79505609, 0.60909489,\n",
       "       0.44884622, 0.18910631, 0.22288066, 0.19459405, 0.49160588,\n",
       "       0.59730132, 0.19369734, 0.23050481, 0.20259001, 0.3922094 ,\n",
       "       0.08464052, 0.60392041, 0.63161711, 0.29012612, 0.45538142,\n",
       "       0.07732814, 0.43163374, 0.59233147, 0.375176  , 0.42010244,\n",
       "       0.21907616, 0.09414049, 0.77382788, 0.10677062, 0.14757415,\n",
       "       0.04796578, 0.30074923, 0.2473942 , 0.1429974 , 0.70075237,\n",
       "       0.18481943, 0.38538375, 0.37753598, 0.13846007, 0.56950281,\n",
       "       0.48410517, 0.49499793, 0.25114941, 0.90815967, 0.31100168,\n",
       "       0.59511281, 0.48617902, 0.422798  , 0.4126575 , 0.75617818,\n",
       "       0.48115191, 0.36863454, 0.36220173, 0.29330892, 0.30562775,\n",
       "       0.15664045, 0.28352149, 0.48493492, 0.16642196, 0.09801014,\n",
       "       0.17716025, 0.31890957, 0.35821562, 0.14861017, 0.23056442,\n",
       "       0.27404507, 0.02405488, 0.41888935, 0.39932732, 0.52728996,\n",
       "       0.65920972, 0.33532756, 0.28468046, 0.01683836, 0.09209904,\n",
       "       0.21949129, 0.79281681, 0.71608385, 0.87490827, 0.420574  ,\n",
       "       0.51400754, 0.79449661, 0.86569148, 0.67587137, 0.32649642,\n",
       "       0.70898929, 0.50347485, 0.69087539, 0.70155258, 0.6005597 ,\n",
       "       0.43445908, 0.43020207, 0.81639525, 0.84808679, 0.36082461,\n",
       "       0.83163132, 0.14200376, 0.38936468, 0.59204423, 0.54169024,\n",
       "       0.29050347, 0.40683   , 0.14371058, 0.23398455, 0.15785799,\n",
       "       0.46392037, 0.3416492 , 0.2139327 , 0.20079893, 0.53527193,\n",
       "       0.35958203, 0.26624138, 0.20310525, 0.67336913, 0.24848057,\n",
       "       0.28150763, 0.43134535, 0.37894906, 0.11209947, 0.47387647,\n",
       "       0.18161261, 0.46875825, 0.13258451, 0.67436495, 0.0729582 ,\n",
       "       0.29297097, 0.39405767, 0.41802211, 0.27627202, 0.5159981 ,\n",
       "       0.28066156, 0.49807837, 0.26430035, 0.09742737, 0.05178825,\n",
       "       0.39440691, 0.26142211, 0.26254321, 0.22955343, 0.3249139 ,\n",
       "       0.18001703, 0.47214092, 0.24962183, 0.25780782, 0.37589058,\n",
       "       0.41666593, 0.5166509 , 0.5128601 , 0.52559949, 0.72187263,\n",
       "       0.21958953, 0.36014655, 0.39210532, 0.1983272 , 0.24673209,\n",
       "       0.31924918, 0.2376767 , 0.47668541, 0.24799404, 0.36199843,\n",
       "       0.14468976, 0.32858196, 0.27142708, 0.3328151 , 0.39405383,\n",
       "       0.41189907, 0.29487939, 0.75326363, 0.41396721, 0.13956608,\n",
       "       0.39517037, 0.11911145, 0.21466434, 0.6559688 , 0.41698548,\n",
       "       0.5886279 , 0.34390147, 0.77842492, 0.16148943, 0.36663096,\n",
       "       0.35312203, 0.20765683, 0.17788757, 0.65937591, 0.39199686,\n",
       "       0.34060322, 0.49919239, 0.1854983 , 0.26191143, 0.10863207,\n",
       "       0.13972453, 0.12977172, 0.1182731 , 0.13272939, 0.46454296,\n",
       "       0.39919216, 0.2367115 , 0.26707459, 0.18324868, 0.2550402 ,\n",
       "       0.2034917 , 0.12018113, 0.18979309, 0.27376134, 0.06773063,\n",
       "       0.66318994, 0.36756926, 0.46866294, 0.76725434, 0.32007773,\n",
       "       0.40147996, 0.10550567, 0.38881455, 0.56435712, 0.28662733,\n",
       "       0.64772776])"
      ]
     },
     "execution_count": 21,
     "metadata": {},
     "output_type": "execute_result"
    }
   ],
   "source": [
    "model.predict_proba(features)[:, 1]"
   ]
  },
  {
   "cell_type": "markdown",
   "metadata": {},
   "source": [
    "### Assignment 6\n",
    "\n",
    "Train a regularized logistic regression to predict subsequent recall separately for each subject who participated in LTPFR2. Estimate the regularization parameter for each subject using nested crossvalidation. How well can you predict subsequent recall? If you feel ambitious do the same thing but using a SVC and compare the out-of sample performance."
   ]
  },
  {
   "cell_type": "code",
   "execution_count": null,
   "metadata": {},
   "outputs": [],
   "source": []
  }
 ],
 "metadata": {
  "kernelspec": {
   "display_name": "environmentname",
   "language": "python",
   "name": "environmentname"
  },
  "language_info": {
   "codemirror_mode": {
    "name": "ipython",
    "version": 3
   },
   "file_extension": ".py",
   "mimetype": "text/x-python",
   "name": "python",
   "nbconvert_exporter": "python",
   "pygments_lexer": "ipython3",
   "version": "3.7.4"
  }
 },
 "nbformat": 4,
 "nbformat_minor": 4
}
