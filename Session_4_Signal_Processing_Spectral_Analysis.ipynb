{
 "cells": [
  {
   "cell_type": "markdown",
   "metadata": {},
   "source": [
    "## Signal processing and spectral analysis\n",
    "\n",
    "Besides ERPs, the primary way neuroscientists understand EEG signals is to look for oscillations, or rhythmic fluctations in the voltage of an EEG signal. Some fluctuations occur very fast, cycling dozens of times in the span of a second, while others will see only 3 or 4 cycles a second. Breaking down EEG according to the contributions of oscillations at various frequencies is key to electrophysiological analysis. \n",
    "\n",
    "There are many ways to break down an EEG signal into its component frequencies and measure the contribution of each. During lecture we introduced the Fourier Transform as the foundational tool for spectral analysis, and described the Morelet wavelet method for analyzing time-frequency information. In today's interactive session and assignment, you'll implement some of the techniques discussed in lecture and get an introduction to MNE, a software package for analyzing neural timeseries data.\n",
    "\n",
    "<center>\n",
    "<img src=\"http://neurosky.com/wp-content/uploads/2015/05/Screen-Shot-2015-05-14-at-10.41.17-AM.png\" width=300>\n",
    "</center>\n",
    "\n",
    "Here's a few tips to keep in mind as you're analyzing spectral power in EEG signals: \n",
    "\n",
    "* We're often interested in **contrasts between conditions**, e.g. rememebered vs. not-remembered, or stimulus vs. baseline, etc. Interpreting raw power values can be difficult and should be done with care. \n",
    "* Many filters, like the Morlet wavelet, induce edge effects. Be sure to add an appropriately-sized **buffer** and remove it after filtering!\n",
    "* **Line noise** and harmonics (60 Hz, 120 Hz) can contaminate analyses of high-frequency activity. Re-referencing can mitigate it somewhat, but either avoid analyzing frequencies around 60 and 120 Hz or apply a notch filter to remove residual line noise. \n",
    "* **Nyquist limit**: The maximum frequency that can be resolved is equal to the sampling rate divided by two (F_s/2). Subjects are often sampled at 500 Hz or 1000 Hz, corresponding to maximum resolved frequencies of 250 Hz or 500 Hz. In practice, try not to get too close to the limit anyway. This is typically not an issue for any recent subjects, since our maximum frequency of interest is rarely >200 Hz or so.\n",
    "* **Bandwidth**: The lowest frequency that can be resolved in a timeseries, equal to 1/T, where T is the duration of the available time window. (Same as the smallest-possible frequency spacing.)\n",
    "* There is a **fundamental trade-off** between time resolution and frequency resolution. With greater frequency resolution comes worse time resolution, and vice versa. So resolving frequencies within ~1 Hz of each other, like in the theta range, is possible, but you will not be able to make judgments about the timing of effects beyond ~1 second. Try to use time windows that contain at least **3 cycles** of your lowest frequency of interest. \n",
    "\n",
    "<center>\n",
    "<img src=\"https://github.com/esolomon/PythonBootcamp2019/blob/master/figures/nyquist.png?raw=true\" width=700>\n",
    "</center>"
   ]
  },
  {
   "cell_type": "markdown",
   "metadata": {},
   "source": [
    "## Implementing time-frequency analyses in Python\n",
    "\n",
    "There are several Python toolboxes that have good implementations of various spectral decomposition methods. For the sake of the bootcamp, we're going to focus on **MNE Python**, which is a suite of tools for analysis of neural timeseries data (https://martinos.org/mne/stable/index.html). **PTSA** is another Python-based timeseries toolbox, designed by former members of the CML, that features a very fast implementation of the Morlet Wavelet Transform. (https://github.com/pennmem/ptsa_new)"
   ]
  },
  {
   "cell_type": "markdown",
   "metadata": {},
   "source": [
    "### MNE Python\n",
    "Let's take a look at doing some basic spectral analyses with MNE. First, we'll load up the same dataset we've been working with the past few days. "
   ]
  },
  {
   "cell_type": "code",
   "execution_count": 1,
   "metadata": {},
   "outputs": [],
   "source": [
    "from CMLLoad import CMLLoad\n",
    "\n",
    "# Remember to update this to where your CMLExamples data is located.\n",
    "load = CMLLoad('./CMLExamples')\n",
    "\n",
    "# We load the dataframe for all sessions.\n",
    "df = load.Index()\n",
    "\n",
    "# Specify which subject and experiment we want\n",
    "sub = 'R1111M'\n",
    "exp = 'FR1'\n",
    "\n",
    "# Select the dataframes for our subject and experiment.\n",
    "df_select = df[(df['subject']==sub) & (df['experiment']==exp)]\n",
    "# Pick the first session\n",
    "df_sess = df_select.iloc[0]\n",
    "\n",
    "# For first session...\n",
    "evs = load.Load(df_sess, 'events')\n",
    "word_evs = evs[evs['type']=='WORD']\n"
   ]
  },
  {
   "cell_type": "code",
   "execution_count": 2,
   "metadata": {},
   "outputs": [
    {
     "name": "stdout",
     "output_type": "stream",
     "text": [
      "765 matching events found\n",
      "No baseline correction applied\n",
      "Not setting metadata\n",
      "0 projection items activated\n",
      "0 bad epochs dropped\n"
     ]
    }
   ],
   "source": [
    "# Load the EEG as an mne object.\n",
    "eeg = load.LoadMNE(df_sess, ev_start=0, ev_len=1000)\n",
    "# Select all word events.\n",
    "eeg = eeg[word_evs.index]\n",
    "# Select the 62nd electrode.\n",
    "eeg = eeg.pick_channels(eeg.ch_names[62:63])"
   ]
  },
  {
   "cell_type": "markdown",
   "metadata": {},
   "source": [
    "The basis of MNE is the **EpochsArray** structure. It's a Python object that nicely wraps up pertinent information about an EEG-type timeseries, including channel names, sample rates, and event information. Note how our eeg object has information about events and time, among others. It also supports more advanced functionality like filtering, re-referencing, and channel rejection, which we won't get in to right now.\n",
    "\n",
    "**(Tip: MNE functions can often take raw numpy arrays just as well as an EpochsArray -- just be sure you've got the array dimensions right!)**"
   ]
  },
  {
   "cell_type": "code",
   "execution_count": 3,
   "metadata": {},
   "outputs": [
    {
     "data": {
      "text/plain": [
       "\u001b[0;31mType:\u001b[0m        EpochsArray\n",
       "\u001b[0;31mString form:\u001b[0m\n",
       "<EpochsArray  |   288 events (all good), 0 - 0.998 sec, baseline off, ~1.1 MB, data loaded,\n",
       " '1': 288>\n",
       "\u001b[0;31mLength:\u001b[0m      288\n",
       "\u001b[0;31mFile:\u001b[0m        ~/.conda/envs/pypenn/lib/python3.7/site-packages/mne/epochs.py\n",
       "\u001b[0;31mDocstring:\u001b[0m  \n",
       "Epochs object from numpy array.\n",
       "\n",
       "Parameters\n",
       "----------\n",
       "data : array, shape (n_epochs, n_channels, n_times)\n",
       "    The channels' time series for each epoch. See notes for proper units of\n",
       "    measure.\n",
       "info : instance of Info\n",
       "    Info dictionary. Consider using ``create_info`` to populate\n",
       "    this structure.\n",
       "events : None | array of int, shape (n_events, 3)\n",
       "    The events typically returned by the read_events function.\n",
       "    If some events don't match the events of interest as specified\n",
       "    by event_id, they will be marked as 'IGNORED' in the drop log.\n",
       "    If None (default), all event values are set to 1 and event time-samples\n",
       "    are set to range(n_epochs).\n",
       "tmin : float\n",
       "    Start time before event. If nothing provided, defaults to 0.\n",
       "event_id : int | list of int | dict | None\n",
       "    The id of the event to consider. If dict,\n",
       "    the keys can later be used to access associated events. Example:\n",
       "    dict(auditory=1, visual=3). If int, a dict will be created with\n",
       "    the id as string. If a list, all events with the IDs specified\n",
       "    in the list are used. If None, all events will be used with\n",
       "    and a dict is created with string integer names corresponding\n",
       "    to the event id integers.\n",
       "reject : dict | None\n",
       "    Rejection parameters based on peak-to-peak amplitude.\n",
       "    Valid keys are 'grad' | 'mag' | 'eeg' | 'eog' | 'ecg'.\n",
       "    If reject is None then no rejection is done. Example::\n",
       "\n",
       "        reject = dict(grad=4000e-13, # T / m (gradiometers)\n",
       "                      mag=4e-12, # T (magnetometers)\n",
       "                      eeg=40e-6, # V (EEG channels)\n",
       "                      eog=250e-6 # V (EOG channels)\n",
       "                      )\n",
       "\n",
       "flat : dict | None\n",
       "    Rejection parameters based on flatness of signal.\n",
       "    Valid keys are 'grad' | 'mag' | 'eeg' | 'eog' | 'ecg', and values\n",
       "    are floats that set the minimum acceptable peak-to-peak amplitude.\n",
       "    If flat is None then no rejection is done.\n",
       "reject_tmin : scalar | None\n",
       "    Start of the time window used to reject epochs (with the default None,\n",
       "    the window will start with tmin).\n",
       "reject_tmax : scalar | None\n",
       "    End of the time window used to reject epochs (with the default None,\n",
       "    the window will end with tmax).\n",
       "baseline : None or tuple of length 2 (default None)\n",
       "    The time interval to apply baseline correction. If None do not apply\n",
       "    it. If baseline is (a, b) the interval is between \"a (s)\" and \"b (s)\".\n",
       "    If a is None the beginning of the data is used and if b is None then b\n",
       "    is set to the end of the interval. If baseline is equal to (None, None)\n",
       "    all the time interval is used. Correction is applied by computing mean\n",
       "    of the baseline period and subtracting it from the data. The baseline\n",
       "    (a, b) includes both endpoints, i.e. all timepoints t such that\n",
       "    a <= t <= b.\n",
       "proj : bool | 'delayed'\n",
       "    Apply SSP projection vectors. See :class:`mne.Epochs` for details.\n",
       "on_missing : str\n",
       "    See :class:`mne.Epochs` docstring for details.\n",
       "metadata : instance of pandas.DataFrame | None\n",
       "    See :class:`mne.Epochs` docstring for details.\n",
       "\n",
       "    .. versionadded:: 0.16\n",
       "selection : ndarray | None\n",
       "    The selection compared to the original set of epochs.\n",
       "    Can be None to use ``np.arange(len(events))``.\n",
       "\n",
       "    .. versionadded:: 0.16\n",
       "\n",
       "verbose : bool, str, int, or None\n",
       "    If not None, override default verbose level (see :func:`mne.verbose`\n",
       "    and :ref:`Logging documentation <tut_logging>` for more).\n",
       "\n",
       "See Also\n",
       "--------\n",
       "create_info\n",
       "EvokedArray\n",
       "io.RawArray\n",
       "\n",
       "Notes\n",
       "-----\n",
       "Proper units of measure:\n",
       "\n",
       "* V: eeg, eog, seeg, emg, ecg, bio, ecog\n",
       "* T: mag\n",
       "* T/m: grad\n",
       "* M: hbo, hbr\n",
       "* Am: dipole\n",
       "* AU: misc\n"
      ]
     },
     "metadata": {},
     "output_type": "display_data"
    }
   ],
   "source": [
    "eeg?"
   ]
  },
  {
   "cell_type": "code",
   "execution_count": 4,
   "metadata": {},
   "outputs": [
    {
     "data": {
      "text/plain": [
       "500.0"
      ]
     },
     "execution_count": 4,
     "metadata": {},
     "output_type": "execute_result"
    }
   ],
   "source": [
    "#Use this opportunity to tab-complete eeg's attributes.\n",
    "eeg.info['sfreq']"
   ]
  },
  {
   "cell_type": "code",
   "execution_count": 5,
   "metadata": {},
   "outputs": [
    {
     "name": "stdout",
     "output_type": "stream",
     "text": [
      "Effective window size : 0.512 (s)\n"
     ]
    }
   ],
   "source": [
    "#Let's take a look at the average power spectrum across these events (Welch's method)\n",
    "from mne import time_frequency\n",
    "\n",
    "psds, freqs = time_frequency.psd_welch(eeg, fmin=3, fmax=150)  #the output is size (events x channels x freqs)"
   ]
  },
  {
   "cell_type": "code",
   "execution_count": 6,
   "metadata": {},
   "outputs": [
    {
     "data": {
      "text/plain": [
       "Text(0.5, 0, 'Frequency (Hz)')"
      ]
     },
     "execution_count": 6,
     "metadata": {},
     "output_type": "execute_result"
    },
    {
     "data": {
      "image/png": "[encoded data removed]",
      "text/plain": [
       "<Figure size 504x216 with 2 Axes>"
      ]
     },
     "metadata": {
      "needs_background": "light"
     },
     "output_type": "display_data"
    },
    {
     "data": {
      "image/png": "[encoded data removed]",
      "text/plain": [
       "<Figure size 252x216 with 1 Axes>"
      ]
     },
     "metadata": {
      "needs_background": "light"
     },
     "output_type": "display_data"
    }
   ],
   "source": [
    "# Plot our results\n",
    "%matplotlib inline\n",
    "import matplotlib.pyplot as plt\n",
    "import numpy as np\n",
    "\n",
    "# Plot individual trial example\n",
    "plt.figure(figsize=(7, 3))\n",
    "ax = plt.subplot(121);\n",
    "plt.plot(eeg.get_data()[10, 0, :])\n",
    "plt.title('EEG trace')\n",
    "plt.xlabel('Time (samples)')\n",
    "plt.ylabel('Voltage')\n",
    "ax = plt.subplot(122);\n",
    "plt.plot(freqs, np.log10(psds[10, 0, :]))\n",
    "plt.title('Power Spectral Density')\n",
    "plt.xlabel('Frequency')\n",
    "plt.ylabel('log Power')\n",
    "plt.tight_layout()\n",
    "\n",
    "plt.figure(figsize=(3.5, 3))\n",
    "ax = plt.subplot(111)\n",
    "plt.plot(freqs, np.mean(psds[:, 0, :], 0), linewidth=2)\n",
    "plt.ylabel('PSD')\n",
    "plt.xlabel('Frequency (Hz)')"
   ]
  },
  {
   "cell_type": "markdown",
   "metadata": {},
   "source": [
    "Note how the power at high frequencies is significantly smaller than at low frequencies. This is a classic relationship found in many natural signals, called the **\"1/f\"** phenomenon. It means that the amplitude of high-frequency signals tends to be much smaller than the amplitude of low-frequency signals. \n",
    "\n",
    "Unfortunately, this relationship makes it difficult to visualize changes at high frequencies, or properly assess differences between frequency bands. This is one reason why people often take the log of power values before going forward with analyses. Another reason is to transform non-normally distributed units of power (which are non-negative) to log-power, which are less drasatically non-normal."
   ]
  },
  {
   "cell_type": "code",
   "execution_count": 7,
   "metadata": {},
   "outputs": [
    {
     "data": {
      "image/png": "[encoded data removed]",
      "text/plain": [
       "<Figure size 504x216 with 2 Axes>"
      ]
     },
     "metadata": {
      "needs_background": "light"
     },
     "output_type": "display_data"
    }
   ],
   "source": [
    "log_psds = np.log10(psds)\n",
    "\n",
    "plt.figure(figsize=(7, 3))\n",
    "ax = plt.subplot(121)\n",
    "plt.plot(freqs, np.mean(log_psds[:, 0, :], 0), linewidth=2)\n",
    "plt.ylabel('log(PSD)')\n",
    "plt.xlabel('Frequency (Hz)');\n",
    "\n",
    "# Plot on a log axis to better see low frequencies\n",
    "ax = plt.subplot(122)\n",
    "plt.semilogx(freqs, np.mean(log_psds[:, 0, :], 0), linewidth=2)\n",
    "plt.ylabel('log(PSD)')\n",
    "plt.xlabel('Frequency (Hz)');\n",
    "\n",
    "plt.tight_layout()  #This cleans up our plots a bit"
   ]
  },
  {
   "cell_type": "markdown",
   "metadata": {},
   "source": [
    "That's much better! We can better see things going on at all points throughout our frequency range. Note that there are several other ways to normalize power values -- some of which we will discuss -- that can also be applied after an initial log transform."
   ]
  },
  {
   "cell_type": "markdown",
   "metadata": {},
   "source": [
    "**Exercise: Analyze 3 seconds of the power sectrum of the first channel for subject R1292E. What do you notice?**"
   ]
  },
  {
   "cell_type": "code",
   "execution_count": null,
   "metadata": {},
   "outputs": [],
   "source": [
    "# Where's the line noise?\n",
    "plt.figure(figsize=(3.5, 3))\n",
    "ax = plt.subplot(111)\n",
    "plt.plot(freqs, np.log10(np.mean(psds[:, 0, :], 0)), linewidth=2)\n",
    "plt.title('Average PSD')\n",
    "plt.xlabel('Frequency (Hz)')\n",
    "plt.ylabel('log Power')\n",
    "plt.vlines([60, 120], ymin=ax.get_ylim()[0], ymax=ax.get_ylim()[1], color='red', alpha=0.5)"
   ]
  },
  {
   "cell_type": "code",
   "execution_count": null,
   "metadata": {},
   "outputs": [],
   "source": [
    "# Here's a potential solution:\n",
    "# Filtering out the 60 Hz electrical line noise and its harmonic at 120 Hz\n",
    "\n",
    "# Butterworth filtering: 60 Hz and 120 Hz\n",
    "filt_data = eeg.filter(l_freq=62., h_freq=58., method='iir')\n",
    "filt_data = filt_data.filter(l_freq=122., h_freq=118., method='iir')\n",
    "\n",
    "# Get power spectral densities\n",
    "psds, freqs = time_frequency.psd_welch(filt_data, fmin=3, fmax=150)  #the output is size (events x channels x freqs)\n",
    "\n",
    "# Plot individual trial example\n",
    "plt.figure(figsize=(7, 3))\n",
    "ax = plt.subplot(121);\n",
    "plt.plot(filt_data.get_data()[0, 0, :]);\n",
    "plt.title('EEG trace')\n",
    "plt.xlabel('Time (samples)')\n",
    "plt.ylabel('Voltage')\n",
    "\n",
    "ax = plt.subplot(122);\n",
    "plt.plot(freqs, np.log10(psds[0, 0, :]))\n",
    "plt.title('Power Spectral Density')\n",
    "plt.xlabel('Frequency')\n",
    "plt.ylabel('log Power')\n",
    "\n",
    "plt.tight_layout()\n",
    "\n",
    "# Plot average PSD\n",
    "plt.figure(figsize=(3.5, 3))\n",
    "ax = plt.subplot(111)\n",
    "plt.plot(freqs, np.log10(np.mean(psds[:, 0, :], 0)), linewidth=2)\n",
    "plt.title('Notch Filtered Data')"
   ]
  },
  {
   "cell_type": "code",
   "execution_count": null,
   "metadata": {},
   "outputs": [],
   "source": [
    "import mne\n",
    "\n",
    "# Load the EEG as an mne object.\n",
    "eeg = load.LoadMNE(df_sess, ev_start=0, ev_len=3000)\n",
    "# Select all word events.\n",
    "eeg = eeg[word_evs.index]\n",
    "# Select the 62nd electrode.\n",
    "eeg = eeg.pick_channels(eeg.ch_names[0:1])\n",
    "\n",
    "# spectrum_fit method\n",
    "filt_data = mne.filter.notch_filter(eeg.get_data(), Fs=eeg.info['sfreq'], freqs=[60, 120],\n",
    "                                    method='spectrum_fit')\n",
    "\n",
    "# Get power spectral densities\n",
    "# the output is size (events x channels x freqs)\n",
    "psds, freqs = mne.time_frequency.psd_array_welch(filt_data, sfreq=eeg.info['sfreq'],\n",
    "                                                 fmin=3, fmax=150)\n",
    "\n",
    "plt.figure(figsize=(3.5, 3))\n",
    "ax = plt.subplot(111)\n",
    "plt.plot(freqs, np.log10(np.mean(psds[:, 0, :], 0)), linewidth=2)\n",
    "plt.title('Notch Filtered Data')"
   ]
  },
  {
   "cell_type": "markdown",
   "metadata": {},
   "source": [
    "### Wavelet transform \n",
    "The wavelet transform is a powerful spectral decomposition method, since it explicitly lets us changes in the power spectrum over time. However, because this method involves convolving wavelets with our timeseries, we need to be sure to add buffers to either end of the signal (which we can clip off later). Otherwise, we'll end up eith edge effects that contaminate our results."
   ]
  },
  {
   "cell_type": "code",
   "execution_count": null,
   "metadata": {},
   "outputs": [],
   "source": [
    "##### Load EEG\n",
    "\n",
    "buf = 1000  #define the buffer (in ms) here. Should be at least half the total wavelet length at lowest frequency (i.e. 1/2f * n_cycles). With standard params, 1 sec usually suffices. \n",
    "\n",
    "# We load the dataframe for all sessions.\n",
    "df = load.Index()\n",
    "\n",
    "# Specify which subject and experiment we want\n",
    "sub = 'R1111M'\n",
    "exp = 'FR1'\n",
    "\n",
    "# Select the dataframes for our subject and experiment.\n",
    "df_select = df[(df['subject']==sub) & (df['experiment']==exp)]\n",
    "# Pick the first session\n",
    "df_sess = df_select.iloc[0]\n",
    "\n",
    "# For first session...\n",
    "evs = load.Load(df_sess, 'events')\n",
    "word_evs = evs[evs['type']=='WORD']\n",
    "\n",
    "# Load the EEG as an mne object.\n",
    "eeg = load.LoadMNE(df_sess, ev_start=-buf, ev_len=buf+1000+buf)\n",
    "# Select all word events.\n",
    "eeg = eeg[word_evs.index]\n",
    "# Select the 62nd electrode.\n",
    "eeg = eeg.pick_channels(eeg.ch_names[62:63])\n",
    "\n",
    "sr = eeg.info['sfreq'] #we'll need this soon\n",
    "\n",
    "# Pre-define an array of frequencies.\n",
    "# We can log-space them since wavelets are less sensitive to differences at higher frequencies\n",
    "myfreqs = np.logspace(np.log10(3), np.log10(150), num=15)\n",
    "\n",
    "# Run TF decomposition\n",
    "# We're setting it to automatically average across trials\n",
    "power = mne.time_frequency.tfr_morlet(eeg, freqs=myfreqs, n_cycles=5, return_itc=False, average=True)\n",
    "\n",
    "# Plot results\n",
    "plt.figure(figsize=(7., 4))\n",
    "ax = plt.subplot(111)\n",
    "# We're cutting off the buffers manually here\n",
    "plt.matshow(np.log10(power.data[0, :, int(buf/1000.*sr):-1*int(buf/1000.*sr)]), fignum=0, aspect='auto', cmap='RdBu_r')\n",
    "ax.invert_yaxis()\n",
    "plt.yticks(np.arange(0, len(myfreqs)), np.round(myfreqs), fontsize=12)\n",
    "plt.xlabel('Time (samples)', fontsize=14)\n",
    "plt.ylabel('Frequency (Hz)', fontsize=14)\n",
    "cb = plt.colorbar()\n",
    "cb.set_label('log Power',)"
   ]
  },
  {
   "cell_type": "markdown",
   "metadata": {},
   "source": [
    "This is nice, but we're not seeing much interesting activity because our color scale is still getting squished by the **overall** difference between low and high frequency power (despite our log transform). One way to address this is to normalize the data **within** each frequency by z-scoring across events. This will become important next week when we discuss multivariate machine learning methods for analyzing this data."
   ]
  },
  {
   "cell_type": "code",
   "execution_count": null,
   "metadata": {},
   "outputs": [],
   "source": [
    "# Re compute power without averaging over events\n",
    "power = mne.time_frequency.tfr_morlet(eeg, freqs=myfreqs, n_cycles=5, return_itc=False, average=False)\n",
    "\n",
    "# Create an array of the mean and standard deviation of the power values across the session\n",
    "power_data = power.data[:,:,:,int(buf/1000.*sr):-1*int(buf/1000.*sr)]\n",
    "m = np.mean(np.mean(power_data,axis=3),axis=0)\n",
    "m = np.expand_dims(np.expand_dims(m,axis=0),axis=3)\n",
    "m = np.repeat(np.repeat(m,word_evs.shape[0],axis=0),power_data.shape[-1],axis=3)\n",
    "\n",
    "sd = np.std(np.mean(power_data,axis=3),axis=0)\n",
    "sd = np.expand_dims(np.expand_dims(sd,axis=0),axis=3)\n",
    "sd = np.repeat(np.repeat(sd,word_evs.shape[0],axis=0),power_data.shape[-1],axis=3)\n",
    "\n",
    "zpower_data = (power_data-m)/sd\n",
    "zpower_data.shape\n",
    "\n",
    "# Plot results\n",
    "plt.figure(figsize=(7., 4))\n",
    "ax = plt.subplot(111)\n",
    "plt.matshow(np.mean(zpower_data[:,0, :,:],axis=0), fignum=0, aspect='auto', cmap='RdBu_r')\n",
    "ax.invert_yaxis()\n",
    "plt.yticks(np.arange(0, len(myfreqs)), np.round(myfreqs), fontsize=12)\n",
    "plt.xlabel('Time (samples)', fontsize=14)\n",
    "plt.ylabel('Frequency (Hz)', fontsize=14)\n",
    "cb = plt.colorbar()\n",
    "cb.set_label('z(log Power)',)"
   ]
  },
  {
   "cell_type": "code",
   "execution_count": null,
   "metadata": {},
   "outputs": [],
   "source": []
  },
  {
   "cell_type": "markdown",
   "metadata": {},
   "source": [
    "## Assignment 4\n",
    "In this assignment you will use spectral decomposition to analyze intracranial data collected during the encoding period of a free recall task (FR1) and will compare spectral power between recalled and not recalled words.\n",
    "\n",
    "This assignment is designed to familiarize you with time–frequency analysis of intracranial EEG data. For each part of the assignment, you will be using different methods to visualize the subsequent memory effect (SME): the difference in brain signals between study items that are later recalled vs. not recalled.\n",
    "* Apply a Butterworth notch filter around 60 Hz (freqs = [58 62]) when extracting the voltage.\n",
    "* Include a 1000ms buffer around time period of interest when computing power; compute power using raw voltage at the original sampling rate\n",
    "* Log-transform power values\n",
    "\n",
    "1. Use the first electrode from participant R1111M's data to generate a graph showing the difference in power between subsequently recalled and subsequently not recalled items at the 15 frequencies used above. Provide one time-frequency graph showing average power for Recalled words, another for Not Recalled words, and a third for the difference between the two.\n",
    "2. Play around with the number of wavelet cycles, frequency, and buffer sizes. What happens as you adjust these parameters?\n",
    "3. Compute the average time-frequency plot across all temporal cortex electrodes in subject R1111M\n",
    "\n",
    "Optional:\n",
    "1. Write your own function to create a complex wavelet\n",
    "2. Write your own function to convolve two input arrays"
   ]
  },
  {
   "cell_type": "code",
   "execution_count": null,
   "metadata": {},
   "outputs": [],
   "source": []
  }
 ],
 "metadata": {
  "kernelspec": {
   "display_name": "pypenn",
   "language": "python",
   "name": "pypenn"
  },
  "language_info": {
   "codemirror_mode": {
    "name": "ipython",
    "version": 3
   },
   "file_extension": ".py",
   "mimetype": "text/x-python",
   "name": "python",
   "nbconvert_exporter": "python",
   "pygments_lexer": "ipython3",
   "version": "3.7.7"
  }
 },
 "nbformat": 4,
 "nbformat_minor": 4
}
