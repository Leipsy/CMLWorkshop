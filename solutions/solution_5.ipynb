{
 "cells": [
  {
   "cell_type": "markdown",
   "metadata": {},
   "source": [
    "# Assignment 5\n",
    "In this assignment, you will estimate the exponent of the power law for more electrodes in R1111M. \n",
    "1. Select the first 50 electrodes and computes spectral power using Morlet wavelets for 30 frequencies between 3 and 150 Hz (np.logspace(np.log10(3), np.log10(150), num=30)) using buf = 1000 ms. \n",
    "2. Fit a regression of $\\log(power) \\sim \\log(freq)$ for each electrode and obtain an estimate for $\\alpha$, where $\\alpha$ is the exponent in $ power \\sim 1/freq^\\alpha$.\n",
    "3. Plot the distribution of $\\alpha$ across these 50 electrodes. How consistent are the $\\alpha$'s across these electrodes? "
   ]
  },
  {
   "cell_type": "code",
   "execution_count": 1,
   "metadata": {},
   "outputs": [],
   "source": [
    "# %matplotlib inline\n",
    "import pandas as pd\n",
    "import numpy as np\n",
    "import matplotlib.pyplot as plt\n",
    "from statsmodels.formula.api import ols\n",
    "from sklearn import linear_model\n",
    "import mne\n",
    "np.random.seed(100)"
   ]
  },
  {
   "cell_type": "code",
   "execution_count": 2,
   "metadata": {},
   "outputs": [
    {
     "name": "stdout",
     "output_type": "stream",
     "text": [
      "765 matching events found\n",
      "No baseline correction applied\n",
      "Not setting metadata\n",
      "0 projection items activated\n",
      "0 bad epochs dropped\n"
     ]
    }
   ],
   "source": [
    "### Assignment 5 Solutions\n",
    "from CMLLoad import CMLLoad\n",
    "\n",
    "# Remember to update this to where your CMLExamples data is located.\n",
    "load = CMLLoad('./CMLExamples')\n",
    "\n",
    "# We load the dataframe for all sessions.\n",
    "df = load.Index()\n",
    "\n",
    "buf = 1000  #define the buffer (in ms) here. Should be at least half the total wavelet length at lowest frequency (i.e. 1/2f * n_cycles). With standard params, 1 sec usually suffices. \n",
    "\n",
    "# We load the dataframe for all sessions.\n",
    "df = load.Index()\n",
    "\n",
    "# Specify which subject and experiment we want\n",
    "sub = 'R1111M'\n",
    "exp = 'FR1'\n",
    "\n",
    "# Select the dataframes for our subject and experiment.\n",
    "df_select = df[(df['subject']==sub) & (df['experiment']==exp)]\n",
    "# Pick the first session\n",
    "df_sess = df_select.iloc[0]\n",
    "\n",
    "# For first session...\n",
    "evs = load.Load(df_sess, 'events')\n",
    "word_evs = evs[evs['type']=='WORD']\n",
    "\n",
    "# Load the EEG as an mne object.\n",
    "eeg = load.LoadMNE(df_sess, ev_start=-buf, ev_len=buf+1000+buf)\n",
    "# Select all word events.\n",
    "eeg = eeg[word_evs.index]\n",
    "# Select the 62nd electrode.\n",
    "eeg = eeg.pick_channels(eeg.ch_names[:50])\n",
    "sr = eeg.info['sfreq'] #we'll need this soon\n",
    "# Pre-define an array of frequencies.\n",
    "# We can log-space them since wavelets are less sensitive to differences at higher frequencies\n",
    "myfreqs = np.logspace(np.log10(3), np.log10(150), num=30)\n",
    "# Run TF decomposition\n",
    "# We're setting it to automatically average across trials\n",
    "power = mne.time_frequency.tfr_morlet(eeg, freqs=myfreqs, n_cycles=5, return_itc=False, average=True)\n"
   ]
  },
  {
   "cell_type": "code",
   "execution_count": 3,
   "metadata": {},
   "outputs": [],
   "source": [
    "log_power = np.log10(power.data[:, :, int(buf/1000.*sr):-1*int(buf/1000.*sr)])\n",
    "log_power = log_power.mean(axis = 2)\n",
    "log_freqs = np.log10(power.freqs)"
   ]
  },
  {
   "cell_type": "code",
   "execution_count": 4,
   "metadata": {},
   "outputs": [],
   "source": [
    "alpha_vec = []\n",
    "for i in range(log_power.shape[0]):\n",
    "    reg = linear_model.LinearRegression()\n",
    "    model = reg.fit(log_freqs.reshape(len(log_freqs),1), log_power[i,:])\n",
    "    b_est = model.coef_[0]\n",
    "    alpha_vec.append(-b_est)"
   ]
  },
  {
   "cell_type": "code",
   "execution_count": 5,
   "metadata": {},
   "outputs": [
    {
     "data": {
      "text/plain": [
       "Text(0.5, 0, 'alpha')"
      ]
     },
     "execution_count": 5,
     "metadata": {},
     "output_type": "execute_result"
    },
    {
     "data": {
      "image/png": "[encoded data removed]",
      "text/plain": [
       "<Figure size 432x288 with 1 Axes>"
      ]
     },
     "metadata": {
      "needs_background": "light"
     },
     "output_type": "display_data"
    }
   ],
   "source": [
    "plt.hist(alpha_vec)\n",
    "plt.xlabel('alpha')"
   ]
  },
  {
   "cell_type": "code",
   "execution_count": null,
   "metadata": {},
   "outputs": [],
   "source": []
  }
 ],
 "metadata": {
  "kernelspec": {
   "display_name": "environmentname",
   "language": "python",
   "name": "environmentname"
  },
  "language_info": {
   "codemirror_mode": {
    "name": "ipython",
    "version": 3
   },
   "file_extension": ".py",
   "mimetype": "text/x-python",
   "name": "python",
   "nbconvert_exporter": "python",
   "pygments_lexer": "ipython3",
   "version": "3.7.4"
  }
 },
 "nbformat": 4,
 "nbformat_minor": 4
}
