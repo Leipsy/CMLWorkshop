{
 "cells": [
  {
   "cell_type": "code",
   "execution_count": 3,
   "metadata": {},
   "outputs": [],
   "source": [
    "import seaborn as sns\n",
    "from sklearn.linear_model import LinearRegression\n",
    "from sklearn.linear_model import LogisticRegression\n",
    "from sklearn.metrics import roc_auc_score, roc_curve\n",
    "import sys\n",
    "sys.path.append('/home1/jrudoler/CMLWorkshop/')\n",
    "from CMLLoad import CMLLoad\n",
    "import numpy as np\n",
    "import matplotlib.pyplot as plt"
   ]
  },
  {
   "cell_type": "code",
   "execution_count": 5,
   "metadata": {},
   "outputs": [],
   "source": [
    "iris = sns.load_dataset('iris')"
   ]
  },
  {
   "cell_type": "code",
   "execution_count": 16,
   "metadata": {},
   "outputs": [],
   "source": [
    "# Remember to update this to where your CMLExamples data is located.\n",
    "load = CMLLoad('../CMLExamples')\n",
    "\n",
    "# We load the dataframe for all sessions.\n",
    "df = load.Index()\n",
    "\n",
    "# Specify which subject and experiment we want\n",
    "sub = 'R1111M'\n",
    "exp = 'FR1'\n",
    "\n",
    "# Select the dataframes for our subject and experiment.\n",
    "df_select = df[(df['subject']==sub) & (df['experiment']==exp)]"
   ]
  },
  {
   "cell_type": "code",
   "execution_count": 17,
   "metadata": {},
   "outputs": [
    {
     "name": "stderr",
     "output_type": "stream",
     "text": [
      "/home1/jrudoler/anaconda3/envs/cml37/lib/python3.7/site-packages/xarray/core/merge.py:17: FutureWarning: The Panel class is removed from pandas. Accessing it from the top-level namespace will also be removed in the next version\n",
      "  PANDAS_TYPES = (pd.Series, pd.DataFrame, pd.Panel)\n",
      "/home1/jrudoler/anaconda3/envs/cml37/lib/python3.7/site-packages/xarray/core/dataarray.py:219: FutureWarning: The Panel class is removed from pandas. Accessing it from the top-level namespace will also be removed in the next version\n",
      "  elif isinstance(data, pd.Panel):\n"
     ]
    },
    {
     "name": "stdout",
     "output_type": "stream",
     "text": [
      "CPP total time wavelet loop:  7.69503116607666\n",
      "0 completed successfully!\n",
      "CPP total time wavelet loop:  5.203744649887085\n",
      "1 completed successfully!\n",
      "CPP total time wavelet loop:  7.746237516403198\n",
      "2 completed successfully!\n",
      "CPP total time wavelet loop:  5.6449596881866455\n",
      "3 completed successfully!\n"
     ]
    }
   ],
   "source": [
    "# Instead of just looking at session 1, we want to analyze data from all sessions.\n",
    "# To do that, we'll use a for loop.\n",
    "\n",
    "recalled = []  # For storing encoding success.\n",
    "sess_pows = []  # For storing our computed spectral powers.\n",
    "sess_num = []\n",
    "\n",
    "for df_sess in df_select.itertuples():\n",
    "    sess = df_sess._asdict()['session']\n",
    "    evs = load.Load(df_sess, 'events')\n",
    "    word_evs = evs[evs['type']=='WORD']\n",
    "\n",
    "    buf = 1000  # To remove edge effects during wavelet convolution.\n",
    "    eeg_ptsa = load.LoadPTSA(df_sess, -buf, buf+1400+buf)\n",
    "    eeg_ptsa = eeg_ptsa[word_evs.index]\n",
    "\n",
    "    sr = eeg_ptsa.samplerate\n",
    "    \n",
    "    from ptsa.data.filters import ButterworthFilter\n",
    "    from ptsa.data.filters import MorletWaveletFilter\n",
    "    \n",
    "    # Filter out line noise.\n",
    "    freq_range = [58., 62.]\n",
    "    b_filter = ButterworthFilter(timeseries=eeg_ptsa, freq_range=freq_range, filt_type='stop', order=4)\n",
    "    eeg_filtered = b_filter.filter()\n",
    "    \n",
    "    # Get spectral power.\n",
    "    myfreqs = np.logspace(np.log10(3), np.log10(180), 8)  \n",
    "    wf = MorletWaveletFilter(timeseries=eeg_filtered, freqs=myfreqs, width=5, output='power', cpus=2)\n",
    "    pow_wavelet = wf.filter()   # Output is [freqs, events, elecs, time].\n",
    "    # Remove buffer period.\n",
    "    pows = pow_wavelet.data[:, :, :, int((buf/1000.)*sr):-1*int((buf/1000.)*sr)]\n",
    "    pows = np.log10(pows)\n",
    "    \n",
    "    # Average power across the whole interval.\n",
    "    avg_pows = np.mean(pows, -1)\n",
    "\n",
    "    from scipy.stats import zscore\n",
    "    # z-score power values across events (important to do within-session).\n",
    "    z_pows = zscore(avg_pows, axis=1)\n",
    "    sess_pows.append(z_pows)\n",
    "\n",
    "    # We need to store this data across-sessions.\n",
    "    recalled.extend(list(word_evs['recalled']))\n",
    "    sess_num.extend(np.ones(len(word_evs))*sess)\n",
    "\n",
    "    print(str(sess)+' completed successfully!')    \n",
    "    \n",
    "z_pows = np.array(z_pows)\n",
    "recalled = np.array(recalled)\n",
    "sess_num = np.array(sess_num)\n",
    "all_pows = np.concatenate(sess_pows, axis=1)"
   ]
  },
  {
   "cell_type": "code",
   "execution_count": 18,
   "metadata": {},
   "outputs": [],
   "source": [
    "#Convert our power array into a 2D \"feature matrix\", where each row corresponds to a unique event\n",
    "pow_feats = all_pows.swapaxes(0, 1).reshape(len(recalled), -1)"
   ]
  },
  {
   "cell_type": "markdown",
   "metadata": {},
   "source": [
    "### Exercises"
   ]
  },
  {
   "cell_type": "markdown",
   "metadata": {},
   "source": [
    "**Exercise: Perform a linear regression to predict petal width from sepal length and septal width in the iris dataset. What is the model performance? (i.e. R^2)**"
   ]
  },
  {
   "cell_type": "code",
   "execution_count": 6,
   "metadata": {},
   "outputs": [],
   "source": [
    "#Set up feature matrix\n",
    "sepal_feats = iris[['sepal_length', 'sepal_width']]"
   ]
  },
  {
   "cell_type": "code",
   "execution_count": 8,
   "metadata": {},
   "outputs": [
    {
     "data": {
      "text/plain": [
       "Text(0.5, 1.0, 'Peal widths')"
      ]
     },
     "execution_count": 8,
     "metadata": {},
     "output_type": "execute_result"
    },
    {
     "data": {
      "image/png": "[encoded data removed]",
      "text/plain": [
       "<Figure size 576x180 with 3 Axes>"
      ]
     },
     "metadata": {
      "needs_background": "light"
     },
     "output_type": "display_data"
    }
   ],
   "source": [
    "#Look at the data\n",
    "plt.figure(figsize=(8, 2.5)); ax=plt.subplot(131)\n",
    "plt.hist(iris['sepal_length']); plt.title('sepal length');\n",
    "ax=plt.subplot(132)\n",
    "plt.hist(iris['sepal_width']); plt.title('S widths')\n",
    "ax=plt.subplot(133)\n",
    "plt.hist(iris['petal_width']); plt.title('Peal widths')"
   ]
  },
  {
   "cell_type": "code",
   "execution_count": 9,
   "metadata": {},
   "outputs": [
    {
     "name": "stdout",
     "output_type": "stream",
     "text": [
      "[ 0.723292   -0.47872132]\n",
      "-1.5634922663066062\n"
     ]
    }
   ],
   "source": [
    "#Set up target vector\n",
    "petal_widths = iris['petal_width']\n",
    "\n",
    "#Create linear reg model\n",
    "model = LinearRegression(fit_intercept=True)\n",
    "\n",
    "#Fit the model\n",
    "model.fit(sepal_feats, petal_widths)\n",
    "print(model.coef_)\n",
    "print(model.intercept_)"
   ]
  },
  {
   "cell_type": "code",
   "execution_count": 10,
   "metadata": {},
   "outputs": [
    {
     "data": {
      "text/plain": [
       "0.7429280023779846"
      ]
     },
     "execution_count": 10,
     "metadata": {},
     "output_type": "execute_result"
    }
   ],
   "source": [
    "#get model score\n",
    "model.score(sepal_feats, petal_widths)"
   ]
  },
  {
   "cell_type": "code",
   "execution_count": 11,
   "metadata": {},
   "outputs": [],
   "source": [
    "#Get model predictions\n",
    "petal_preds = model.predict(sepal_feats)"
   ]
  },
  {
   "cell_type": "code",
   "execution_count": 12,
   "metadata": {},
   "outputs": [
    {
     "data": {
      "text/plain": [
       "Text(0, 0.5, 'Actual Width')"
      ]
     },
     "execution_count": 12,
     "metadata": {},
     "output_type": "execute_result"
    },
    {
     "data": {
      "image/png": "[encoded data removed]",
      "text/plain": [
       "<Figure size 432x288 with 1 Axes>"
      ]
     },
     "metadata": {
      "needs_background": "light"
     },
     "output_type": "display_data"
    }
   ],
   "source": [
    "#plot the results\n",
    "plt.figure()\n",
    "plt.scatter(petal_preds, petal_widths)\n",
    "plt.xlabel('Predicted Width'); plt.ylabel('Actual Width')"
   ]
  },
  {
   "cell_type": "code",
   "execution_count": 13,
   "metadata": {},
   "outputs": [
    {
     "name": "stdout",
     "output_type": "stream",
     "text": [
      "                            OLS Regression Results                            \n",
      "==============================================================================\n",
      "Dep. Variable:            petal_width   R-squared:                       0.743\n",
      "Model:                            OLS   Adj. R-squared:                  0.739\n",
      "Method:                 Least Squares   F-statistic:                     212.4\n",
      "Date:                Thu, 19 Nov 2020   Prob (F-statistic):           4.36e-44\n",
      "Time:                        09:47:54   Log-Likelihood:                -69.735\n",
      "No. Observations:                 150   AIC:                             145.5\n",
      "Df Residuals:                     147   BIC:                             154.5\n",
      "Df Model:                           2                                         \n",
      "Covariance Type:            nonrobust                                         \n",
      "================================================================================\n",
      "                   coef    std err          t      P>|t|      [0.025      0.975]\n",
      "--------------------------------------------------------------------------------\n",
      "const           -1.5635      0.339     -4.611      0.000      -2.234      -0.893\n",
      "sepal_length     0.7233      0.039     18.659      0.000       0.647       0.800\n",
      "sepal_width     -0.4787      0.074     -6.501      0.000      -0.624      -0.333\n",
      "==============================================================================\n",
      "Omnibus:                       12.229   Durbin-Watson:                   1.461\n",
      "Prob(Omnibus):                  0.002   Jarque-Bera (JB):               13.043\n",
      "Skew:                           0.715   Prob(JB):                      0.00147\n",
      "Kurtosis:                       3.203   Cond. No.                         72.8\n",
      "==============================================================================\n",
      "\n",
      "Warnings:\n",
      "[1] Standard Errors assume that the covariance matrix of the errors is correctly specified.\n"
     ]
    }
   ],
   "source": [
    "import statsmodels.api as sm\n",
    "\n",
    "X2 = sm.add_constant(sepal_feats)\n",
    "\n",
    "model2 = sm.OLS(petal_widths, X2)\n",
    "model_fit = model2.fit()\n",
    "\n",
    "print(model_fit.summary())"
   ]
  },
  {
   "cell_type": "markdown",
   "metadata": {},
   "source": [
    "**Exercise: How does the ROC curve/AUC change as a function of the penalty parameter?**"
   ]
  },
  {
   "cell_type": "code",
   "execution_count": 19,
   "metadata": {},
   "outputs": [],
   "source": [
    "Cs = np.logspace(np.log10(1e-10), np.log10(1e1), num=12)\n",
    "\n",
    "aucs = []\n",
    "\n",
    "for c in Cs:\n",
    "    lr_classifier = LogisticRegression(C=c, penalty='l2', class_weight='balanced', solver='liblinear')\n",
    "    lr_classifier.fit(pow_feats, recalled)\n",
    "    \n",
    "    recall_prob_array = lr_classifier.predict_proba(pow_feats)[:,1]\n",
    "    auc = roc_auc_score(recalled, recall_prob_array)\n",
    "    \n",
    "    aucs.append(auc)"
   ]
  },
  {
   "cell_type": "code",
   "execution_count": 21,
   "metadata": {},
   "outputs": [
    {
     "data": {
      "text/plain": [
       "Text(0, 0.5, 'AUC')"
      ]
     },
     "execution_count": 21,
     "metadata": {},
     "output_type": "execute_result"
    },
    {
     "data": {
      "image/png": "[encoded data removed]",
      "text/plain": [
       "<Figure size 432x288 with 1 Axes>"
      ]
     },
     "metadata": {
      "needs_background": "light"
     },
     "output_type": "display_data"
    }
   ],
   "source": [
    "plt.figure()\n",
    "plt.plot(Cs, aucs)\n",
    "plt.xscale('log')\n",
    "plt.xlabel('Penalty param'); plt.ylabel('AUC')"
   ]
  },
  {
   "cell_type": "markdown",
   "metadata": {},
   "source": [
    "**Exercise: Randomly select a subset of features from the feature matrix, and recompute the AUC. How does AUC change as a function of the number of features?**"
   ]
  },
  {
   "cell_type": "code",
   "execution_count": 22,
   "metadata": {},
   "outputs": [],
   "source": [
    "n_feats = np.logspace(np.log10(1), np.log10(1000), num=7)\n",
    "\n",
    "n_perms = 100\n",
    "\n",
    "aucs = []\n",
    "\n",
    "for n_feat in n_feats:\n",
    "    \n",
    "    aucs_ = []\n",
    "    \n",
    "    for iPerm in range(n_perms):\n",
    "        \n",
    "        lr_classifier = LogisticRegression(C=0.0001, penalty='l2', class_weight='balanced', solver='liblinear')\n",
    "        pow_feats_ = pow_feats[:, np.random.permutation(np.arange(pow_feats.shape[1]))[:n_feat.astype(int)]]\n",
    "        lr_classifier.fit(pow_feats_, recalled)\n",
    "\n",
    "        recall_prob_array = lr_classifier.predict_proba(pow_feats_)[:,1]\n",
    "        auc = roc_auc_score(recalled, recall_prob_array)\n",
    "        \n",
    "        aucs_.append(auc)\n",
    "        \n",
    "    aucs.append(np.mean(aucs_))\n",
    "    "
   ]
  },
  {
   "cell_type": "code",
   "execution_count": 23,
   "metadata": {},
   "outputs": [
    {
     "data": {
      "image/png": "[encoded data removed]",
      "text/plain": [
       "<Figure size 432x288 with 1 Axes>"
      ]
     },
     "metadata": {
      "needs_background": "light"
     },
     "output_type": "display_data"
    }
   ],
   "source": [
    "plt.figure()\n",
    "plt.plot(n_feats, aucs)\n",
    "plt.xscale('log')"
   ]
  },
  {
   "cell_type": "markdown",
   "metadata": {},
   "source": [
    "# Assignment 5\n",
    "In this assignment, you will estimate the exponent of the power law for more electrodes in R1111M. \n",
    "1. Select the first 50 electrodes and computes spectral power using Morlet wavelets for 30 frequencies between 3 and 150 Hz (np.logspace(np.log10(3), np.log10(150), num=30)) using buf = 1000 ms. \n",
    "2. Fit a regression of $\\log(power) \\sim \\log(freq)$ for each electrode and obtain an estimate for $\\alpha$, where $\\alpha$ is the exponent in $ power \\sim 1/freq^\\alpha$.\n",
    "3. Plot the distribution of $\\alpha$ across these 50 electrodes. How consistent are the $\\alpha$'s across these electrodes? "
   ]
  },
  {
   "cell_type": "code",
   "execution_count": 1,
   "metadata": {},
   "outputs": [],
   "source": [
    "# %matplotlib inline\n",
    "import pandas as pd\n",
    "import numpy as np\n",
    "import matplotlib.pyplot as plt\n",
    "from sklearn import linear_model\n",
    "import mne\n",
    "np.random.seed(100)"
   ]
  },
  {
   "cell_type": "code",
   "execution_count": 2,
   "metadata": {},
   "outputs": [
    {
     "name": "stdout",
     "output_type": "stream",
     "text": [
      "765 matching events found\n",
      "No baseline correction applied\n",
      "Not setting metadata\n",
      "0 projection items activated\n",
      "0 bad epochs dropped\n"
     ]
    }
   ],
   "source": [
    "### Assignment 5 Solutions\n",
    "from CMLLoad import CMLLoad\n",
    "\n",
    "# Remember to update this to where your CMLExamples data is located.\n",
    "load = CMLLoad('./CMLExamples')\n",
    "\n",
    "# We load the dataframe for all sessions.\n",
    "df = load.Index()\n",
    "\n",
    "buf = 1000  #define the buffer (in ms) here. Should be at least half the total wavelet length at lowest frequency (i.e. 1/2f * n_cycles). With standard params, 1 sec usually suffices. \n",
    "\n",
    "# We load the dataframe for all sessions.\n",
    "df = load.Index()\n",
    "\n",
    "# Specify which subject and experiment we want\n",
    "sub = 'R1111M'\n",
    "exp = 'FR1'\n",
    "\n",
    "# Select the dataframes for our subject and experiment.\n",
    "df_select = df[(df['subject']==sub) & (df['experiment']==exp)]\n",
    "# Pick the first session\n",
    "df_sess = df_select.iloc[0]\n",
    "\n",
    "# For first session...\n",
    "evs = load.Load(df_sess, 'events')\n",
    "word_evs = evs[evs['type']=='WORD']\n",
    "\n",
    "# Load the EEG as an mne object.\n",
    "eeg = load.LoadMNE(df_sess, ev_start=-buf, ev_len=buf+1000+buf)\n",
    "# Select all word events.\n",
    "eeg = eeg[word_evs.index]\n",
    "# Select the 62nd electrode.\n",
    "eeg = eeg.pick_channels(eeg.ch_names[:50])\n",
    "sr = eeg.info['sfreq'] #we'll need this soon\n",
    "# Pre-define an array of frequencies.\n",
    "# We can log-space them since wavelets are less sensitive to differences at higher frequencies\n",
    "myfreqs = np.logspace(np.log10(3), np.log10(150), num=30)\n",
    "# Run TF decomposition\n",
    "# We're setting it to automatically average across trials\n",
    "power = mne.time_frequency.tfr_morlet(eeg, freqs=myfreqs, n_cycles=5, return_itc=False, average=True)\n"
   ]
  },
  {
   "cell_type": "code",
   "execution_count": 3,
   "metadata": {},
   "outputs": [],
   "source": [
    "log_power = np.log10(power.data[:, :, int(buf/1000.*sr):-1*int(buf/1000.*sr)])\n",
    "log_power = log_power.mean(axis = 2)\n",
    "log_freqs = np.log10(power.freqs)"
   ]
  },
  {
   "cell_type": "code",
   "execution_count": 4,
   "metadata": {},
   "outputs": [],
   "source": [
    "alpha_vec = []\n",
    "for i in range(log_power.shape[0]):\n",
    "    reg = linear_model.LinearRegression()\n",
    "    model = reg.fit(log_freqs.reshape(len(log_freqs),1), log_power[i,:])\n",
    "    b_est = model.coef_[0]\n",
    "    alpha_vec.append(-b_est)"
   ]
  },
  {
   "cell_type": "code",
   "execution_count": 5,
   "metadata": {},
   "outputs": [
    {
     "data": {
      "text/plain": [
       "Text(0.5, 0, 'alpha')"
      ]
     },
     "execution_count": 5,
     "metadata": {},
     "output_type": "execute_result"
    },
    {
     "data": {
      "image/png": "[encoded data removed]",
      "text/plain": [
       "<Figure size 432x288 with 1 Axes>"
      ]
     },
     "metadata": {
      "needs_background": "light"
     },
     "output_type": "display_data"
    }
   ],
   "source": [
    "plt.hist(alpha_vec)\n",
    "plt.xlabel('alpha')"
   ]
  },
  {
   "cell_type": "code",
   "execution_count": null,
   "metadata": {},
   "outputs": [],
   "source": []
  }
 ],
 "metadata": {
  "kernelspec": {
   "display_name": "cml37",
   "language": "python",
   "name": "cml37"
  },
  "language_info": {
   "codemirror_mode": {
    "name": "ipython",
    "version": 3
   },
   "file_extension": ".py",
   "mimetype": "text/x-python",
   "name": "python",
   "nbconvert_exporter": "python",
   "pygments_lexer": "ipython3",
   "version": "3.7.6"
  }
 },
 "nbformat": 4,
 "nbformat_minor": 4
}
